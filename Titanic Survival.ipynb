{
 "cells": [
  {
   "cell_type": "markdown",
   "metadata": {},
   "source": [
    "#### Collecting the data"
   ]
  },
  {
   "cell_type": "code",
   "execution_count": 41,
   "metadata": {},
   "outputs": [],
   "source": [
    "import pandas as pd\n",
    "import matplotlib.pyplot as plt\n",
    "import numpy as np\n",
    "import seaborn as sns\n"
   ]
  },
  {
   "cell_type": "code",
   "execution_count": 42,
   "metadata": {},
   "outputs": [],
   "source": [
    "data=pd.read_csv(\"titanic.csv\")"
   ]
  },
  {
   "cell_type": "markdown",
   "metadata": {},
   "source": [
    "### Data Analysis"
   ]
  },
  {
   "cell_type": "code",
   "execution_count": 43,
   "metadata": {},
   "outputs": [
    {
     "data": {
      "text/plain": [
       "Index(['PassengerId', 'Survived', 'Pclass', 'Name', 'Sex', 'Age', 'SibSp',\n",
       "       'Parch', 'Ticket', 'Fare', 'Cabin', 'Embarked'],\n",
       "      dtype='object')"
      ]
     },
     "execution_count": 43,
     "metadata": {},
     "output_type": "execute_result"
    }
   ],
   "source": [
    "data.columns    "
   ]
  },
  {
   "cell_type": "code",
   "execution_count": 44,
   "metadata": {},
   "outputs": [
    {
     "data": {
      "text/html": [
       "<div>\n",
       "<style scoped>\n",
       "    .dataframe tbody tr th:only-of-type {\n",
       "        vertical-align: middle;\n",
       "    }\n",
       "\n",
       "    .dataframe tbody tr th {\n",
       "        vertical-align: top;\n",
       "    }\n",
       "\n",
       "    .dataframe thead th {\n",
       "        text-align: right;\n",
       "    }\n",
       "</style>\n",
       "<table border=\"1\" class=\"dataframe\">\n",
       "  <thead>\n",
       "    <tr style=\"text-align: right;\">\n",
       "      <th></th>\n",
       "      <th>PassengerId</th>\n",
       "      <th>Survived</th>\n",
       "      <th>Pclass</th>\n",
       "      <th>Name</th>\n",
       "      <th>Sex</th>\n",
       "      <th>Age</th>\n",
       "      <th>SibSp</th>\n",
       "      <th>Parch</th>\n",
       "      <th>Ticket</th>\n",
       "      <th>Fare</th>\n",
       "      <th>Cabin</th>\n",
       "      <th>Embarked</th>\n",
       "    </tr>\n",
       "  </thead>\n",
       "  <tbody>\n",
       "    <tr>\n",
       "      <th>0</th>\n",
       "      <td>1</td>\n",
       "      <td>0</td>\n",
       "      <td>3</td>\n",
       "      <td>Braund, Mr. Owen Harris</td>\n",
       "      <td>male</td>\n",
       "      <td>22.0</td>\n",
       "      <td>1</td>\n",
       "      <td>0</td>\n",
       "      <td>A/5 21171</td>\n",
       "      <td>7.2500</td>\n",
       "      <td>NaN</td>\n",
       "      <td>S</td>\n",
       "    </tr>\n",
       "    <tr>\n",
       "      <th>1</th>\n",
       "      <td>2</td>\n",
       "      <td>1</td>\n",
       "      <td>1</td>\n",
       "      <td>Cumings, Mrs. John Bradley (Florence Briggs Th...</td>\n",
       "      <td>female</td>\n",
       "      <td>38.0</td>\n",
       "      <td>1</td>\n",
       "      <td>0</td>\n",
       "      <td>PC 17599</td>\n",
       "      <td>71.2833</td>\n",
       "      <td>C85</td>\n",
       "      <td>C</td>\n",
       "    </tr>\n",
       "    <tr>\n",
       "      <th>2</th>\n",
       "      <td>3</td>\n",
       "      <td>1</td>\n",
       "      <td>3</td>\n",
       "      <td>Heikkinen, Miss. Laina</td>\n",
       "      <td>female</td>\n",
       "      <td>26.0</td>\n",
       "      <td>0</td>\n",
       "      <td>0</td>\n",
       "      <td>STON/O2. 3101282</td>\n",
       "      <td>7.9250</td>\n",
       "      <td>NaN</td>\n",
       "      <td>S</td>\n",
       "    </tr>\n",
       "    <tr>\n",
       "      <th>3</th>\n",
       "      <td>4</td>\n",
       "      <td>1</td>\n",
       "      <td>1</td>\n",
       "      <td>Futrelle, Mrs. Jacques Heath (Lily May Peel)</td>\n",
       "      <td>female</td>\n",
       "      <td>35.0</td>\n",
       "      <td>1</td>\n",
       "      <td>0</td>\n",
       "      <td>113803</td>\n",
       "      <td>53.1000</td>\n",
       "      <td>C123</td>\n",
       "      <td>S</td>\n",
       "    </tr>\n",
       "    <tr>\n",
       "      <th>4</th>\n",
       "      <td>5</td>\n",
       "      <td>0</td>\n",
       "      <td>3</td>\n",
       "      <td>Allen, Mr. William Henry</td>\n",
       "      <td>male</td>\n",
       "      <td>35.0</td>\n",
       "      <td>0</td>\n",
       "      <td>0</td>\n",
       "      <td>373450</td>\n",
       "      <td>8.0500</td>\n",
       "      <td>NaN</td>\n",
       "      <td>S</td>\n",
       "    </tr>\n",
       "  </tbody>\n",
       "</table>\n",
       "</div>"
      ],
      "text/plain": [
       "   PassengerId  Survived  Pclass  \\\n",
       "0            1         0       3   \n",
       "1            2         1       1   \n",
       "2            3         1       3   \n",
       "3            4         1       1   \n",
       "4            5         0       3   \n",
       "\n",
       "                                                Name     Sex   Age  SibSp  \\\n",
       "0                            Braund, Mr. Owen Harris    male  22.0      1   \n",
       "1  Cumings, Mrs. John Bradley (Florence Briggs Th...  female  38.0      1   \n",
       "2                             Heikkinen, Miss. Laina  female  26.0      0   \n",
       "3       Futrelle, Mrs. Jacques Heath (Lily May Peel)  female  35.0      1   \n",
       "4                           Allen, Mr. William Henry    male  35.0      0   \n",
       "\n",
       "   Parch            Ticket     Fare Cabin Embarked  \n",
       "0      0         A/5 21171   7.2500   NaN        S  \n",
       "1      0          PC 17599  71.2833   C85        C  \n",
       "2      0  STON/O2. 3101282   7.9250   NaN        S  \n",
       "3      0            113803  53.1000  C123        S  \n",
       "4      0            373450   8.0500   NaN        S  "
      ]
     },
     "execution_count": 44,
     "metadata": {},
     "output_type": "execute_result"
    }
   ],
   "source": [
    "data.head()              #printing first 5 rows of data"
   ]
  },
  {
   "cell_type": "code",
   "execution_count": 45,
   "metadata": {},
   "outputs": [
    {
     "data": {
      "text/plain": [
       "PassengerId      0\n",
       "Survived         0\n",
       "Pclass           0\n",
       "Name             0\n",
       "Sex              0\n",
       "Age            177\n",
       "SibSp            0\n",
       "Parch            0\n",
       "Ticket           0\n",
       "Fare             0\n",
       "Cabin          687\n",
       "Embarked         2\n",
       "dtype: int64"
      ]
     },
     "execution_count": 45,
     "metadata": {},
     "output_type": "execute_result"
    }
   ],
   "source": [
    "data.isnull().sum()                 #finding sum of null values in the data"
   ]
  },
  {
   "cell_type": "code",
   "execution_count": 46,
   "metadata": {},
   "outputs": [
    {
     "name": "stdout",
     "output_type": "stream",
     "text": [
      "<class 'pandas.core.frame.DataFrame'>\n",
      "RangeIndex: 891 entries, 0 to 890\n",
      "Data columns (total 12 columns):\n",
      " #   Column       Non-Null Count  Dtype  \n",
      "---  ------       --------------  -----  \n",
      " 0   PassengerId  891 non-null    int64  \n",
      " 1   Survived     891 non-null    int64  \n",
      " 2   Pclass       891 non-null    int64  \n",
      " 3   Name         891 non-null    object \n",
      " 4   Sex          891 non-null    object \n",
      " 5   Age          714 non-null    float64\n",
      " 6   SibSp        891 non-null    int64  \n",
      " 7   Parch        891 non-null    int64  \n",
      " 8   Ticket       891 non-null    object \n",
      " 9   Fare         891 non-null    float64\n",
      " 10  Cabin        204 non-null    object \n",
      " 11  Embarked     889 non-null    object \n",
      "dtypes: float64(2), int64(5), object(5)\n",
      "memory usage: 83.7+ KB\n"
     ]
    }
   ],
   "source": [
    "data.info()"
   ]
  },
  {
   "cell_type": "code",
   "execution_count": 47,
   "metadata": {},
   "outputs": [
    {
     "data": {
      "text/html": [
       "<div>\n",
       "<style scoped>\n",
       "    .dataframe tbody tr th:only-of-type {\n",
       "        vertical-align: middle;\n",
       "    }\n",
       "\n",
       "    .dataframe tbody tr th {\n",
       "        vertical-align: top;\n",
       "    }\n",
       "\n",
       "    .dataframe thead th {\n",
       "        text-align: right;\n",
       "    }\n",
       "</style>\n",
       "<table border=\"1\" class=\"dataframe\">\n",
       "  <thead>\n",
       "    <tr style=\"text-align: right;\">\n",
       "      <th></th>\n",
       "      <th>PassengerId</th>\n",
       "      <th>Survived</th>\n",
       "      <th>Pclass</th>\n",
       "      <th>Age</th>\n",
       "      <th>SibSp</th>\n",
       "      <th>Parch</th>\n",
       "      <th>Fare</th>\n",
       "    </tr>\n",
       "  </thead>\n",
       "  <tbody>\n",
       "    <tr>\n",
       "      <th>count</th>\n",
       "      <td>891.000000</td>\n",
       "      <td>891.000000</td>\n",
       "      <td>891.000000</td>\n",
       "      <td>714.000000</td>\n",
       "      <td>891.000000</td>\n",
       "      <td>891.000000</td>\n",
       "      <td>891.000000</td>\n",
       "    </tr>\n",
       "    <tr>\n",
       "      <th>mean</th>\n",
       "      <td>446.000000</td>\n",
       "      <td>0.383838</td>\n",
       "      <td>2.308642</td>\n",
       "      <td>29.699118</td>\n",
       "      <td>0.523008</td>\n",
       "      <td>0.381594</td>\n",
       "      <td>32.204208</td>\n",
       "    </tr>\n",
       "    <tr>\n",
       "      <th>std</th>\n",
       "      <td>257.353842</td>\n",
       "      <td>0.486592</td>\n",
       "      <td>0.836071</td>\n",
       "      <td>14.526497</td>\n",
       "      <td>1.102743</td>\n",
       "      <td>0.806057</td>\n",
       "      <td>49.693429</td>\n",
       "    </tr>\n",
       "    <tr>\n",
       "      <th>min</th>\n",
       "      <td>1.000000</td>\n",
       "      <td>0.000000</td>\n",
       "      <td>1.000000</td>\n",
       "      <td>0.420000</td>\n",
       "      <td>0.000000</td>\n",
       "      <td>0.000000</td>\n",
       "      <td>0.000000</td>\n",
       "    </tr>\n",
       "    <tr>\n",
       "      <th>25%</th>\n",
       "      <td>223.500000</td>\n",
       "      <td>0.000000</td>\n",
       "      <td>2.000000</td>\n",
       "      <td>20.125000</td>\n",
       "      <td>0.000000</td>\n",
       "      <td>0.000000</td>\n",
       "      <td>7.910400</td>\n",
       "    </tr>\n",
       "    <tr>\n",
       "      <th>50%</th>\n",
       "      <td>446.000000</td>\n",
       "      <td>0.000000</td>\n",
       "      <td>3.000000</td>\n",
       "      <td>28.000000</td>\n",
       "      <td>0.000000</td>\n",
       "      <td>0.000000</td>\n",
       "      <td>14.454200</td>\n",
       "    </tr>\n",
       "    <tr>\n",
       "      <th>75%</th>\n",
       "      <td>668.500000</td>\n",
       "      <td>1.000000</td>\n",
       "      <td>3.000000</td>\n",
       "      <td>38.000000</td>\n",
       "      <td>1.000000</td>\n",
       "      <td>0.000000</td>\n",
       "      <td>31.000000</td>\n",
       "    </tr>\n",
       "    <tr>\n",
       "      <th>max</th>\n",
       "      <td>891.000000</td>\n",
       "      <td>1.000000</td>\n",
       "      <td>3.000000</td>\n",
       "      <td>80.000000</td>\n",
       "      <td>8.000000</td>\n",
       "      <td>6.000000</td>\n",
       "      <td>512.329200</td>\n",
       "    </tr>\n",
       "  </tbody>\n",
       "</table>\n",
       "</div>"
      ],
      "text/plain": [
       "       PassengerId    Survived      Pclass         Age       SibSp  \\\n",
       "count   891.000000  891.000000  891.000000  714.000000  891.000000   \n",
       "mean    446.000000    0.383838    2.308642   29.699118    0.523008   \n",
       "std     257.353842    0.486592    0.836071   14.526497    1.102743   \n",
       "min       1.000000    0.000000    1.000000    0.420000    0.000000   \n",
       "25%     223.500000    0.000000    2.000000   20.125000    0.000000   \n",
       "50%     446.000000    0.000000    3.000000   28.000000    0.000000   \n",
       "75%     668.500000    1.000000    3.000000   38.000000    1.000000   \n",
       "max     891.000000    1.000000    3.000000   80.000000    8.000000   \n",
       "\n",
       "            Parch        Fare  \n",
       "count  891.000000  891.000000  \n",
       "mean     0.381594   32.204208  \n",
       "std      0.806057   49.693429  \n",
       "min      0.000000    0.000000  \n",
       "25%      0.000000    7.910400  \n",
       "50%      0.000000   14.454200  \n",
       "75%      0.000000   31.000000  \n",
       "max      6.000000  512.329200  "
      ]
     },
     "execution_count": 47,
     "metadata": {},
     "output_type": "execute_result"
    }
   ],
   "source": [
    "data.describe()"
   ]
  },
  {
   "cell_type": "code",
   "execution_count": 48,
   "metadata": {},
   "outputs": [],
   "source": [
    "data=data.drop(['Name','Ticket','Cabin','PassengerId','SibSp','Parch','Fare','Embarked'],axis=1)          #dropping unnecessary columns"
   ]
  },
  {
   "cell_type": "code",
   "execution_count": 49,
   "metadata": {},
   "outputs": [
    {
     "data": {
      "text/plain": [
       "Index(['Survived', 'Pclass', 'Sex', 'Age'], dtype='object')"
      ]
     },
     "execution_count": 49,
     "metadata": {},
     "output_type": "execute_result"
    }
   ],
   "source": [
    "data.columns"
   ]
  },
  {
   "cell_type": "code",
   "execution_count": 50,
   "metadata": {},
   "outputs": [
    {
     "data": {
      "text/plain": [
       "(891, 4)"
      ]
     },
     "execution_count": 50,
     "metadata": {},
     "output_type": "execute_result"
    }
   ],
   "source": [
    "data.shape"
   ]
  },
  {
   "cell_type": "code",
   "execution_count": 51,
   "metadata": {},
   "outputs": [],
   "source": [
    "data.dropna(axis=0,how='any',inplace=True)               #dropping null rows\n"
   ]
  },
  {
   "cell_type": "code",
   "execution_count": 52,
   "metadata": {},
   "outputs": [
    {
     "name": "stdout",
     "output_type": "stream",
     "text": [
      "<class 'pandas.core.frame.DataFrame'>\n",
      "Int64Index: 714 entries, 0 to 890\n",
      "Data columns (total 4 columns):\n",
      " #   Column    Non-Null Count  Dtype  \n",
      "---  ------    --------------  -----  \n",
      " 0   Survived  714 non-null    int64  \n",
      " 1   Pclass    714 non-null    int64  \n",
      " 2   Sex       714 non-null    object \n",
      " 3   Age       714 non-null    float64\n",
      "dtypes: float64(1), int64(2), object(1)\n",
      "memory usage: 27.9+ KB\n"
     ]
    }
   ],
   "source": [
    "data.info()"
   ]
  },
  {
   "cell_type": "code",
   "execution_count": 54,
   "metadata": {},
   "outputs": [
    {
     "name": "stdout",
     "output_type": "stream",
     "text": [
      "['male' 'female']\n"
     ]
    }
   ],
   "source": [
    "print(data['Sex'].unique())\n"
   ]
  },
  {
   "cell_type": "code",
   "execution_count": 55,
   "metadata": {},
   "outputs": [],
   "source": [
    "from sklearn.preprocessing import LabelEncoder           #encoding object data type to int data type using sklearn"
   ]
  },
  {
   "cell_type": "code",
   "execution_count": 56,
   "metadata": {},
   "outputs": [],
   "source": [
    "labelencoder=LabelEncoder()                       #creating object of the method LabelEncoder()"
   ]
  },
  {
   "cell_type": "code",
   "execution_count": 58,
   "metadata": {},
   "outputs": [],
   "source": [
    "data.iloc[:,2]=labelencoder.fit_transform(data.iloc[:,2].values)\n"
   ]
  },
  {
   "cell_type": "code",
   "execution_count": 60,
   "metadata": {},
   "outputs": [
    {
     "name": "stdout",
     "output_type": "stream",
     "text": [
      "[1 0]\n"
     ]
    }
   ],
   "source": [
    "print(data['Sex'].unique())"
   ]
  },
  {
   "cell_type": "markdown",
   "metadata": {},
   "source": [
    "### Data Visualisation"
   ]
  },
  {
   "cell_type": "code",
   "execution_count": 61,
   "metadata": {},
   "outputs": [
    {
     "name": "stdout",
     "output_type": "stream",
     "text": [
      "<class 'pandas.core.frame.DataFrame'>\n",
      "Int64Index: 714 entries, 0 to 890\n",
      "Data columns (total 4 columns):\n",
      " #   Column    Non-Null Count  Dtype  \n",
      "---  ------    --------------  -----  \n",
      " 0   Survived  714 non-null    int64  \n",
      " 1   Pclass    714 non-null    int64  \n",
      " 2   Sex       714 non-null    int64  \n",
      " 3   Age       714 non-null    float64\n",
      "dtypes: float64(1), int64(3)\n",
      "memory usage: 27.9 KB\n"
     ]
    }
   ],
   "source": [
    "data.info()"
   ]
  },
  {
   "cell_type": "code",
   "execution_count": 73,
   "metadata": {},
   "outputs": [
    {
     "data": {
      "image/png": "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\n",
      "text/plain": [
       "<Figure size 432x288 with 1 Axes>"
      ]
     },
     "metadata": {
      "needs_background": "light"
     },
     "output_type": "display_data"
    }
   ],
   "source": [
    "cb = sns.barplot(x=data['Pclass'], y=data['Survived'])"
   ]
  },
  {
   "cell_type": "code",
   "execution_count": 75,
   "metadata": {},
   "outputs": [
    {
     "data": {
      "image/png": "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\n",
      "text/plain": [
       "<Figure size 432x288 with 1 Axes>"
      ]
     },
     "metadata": {
      "needs_background": "light"
     },
     "output_type": "display_data"
    }
   ],
   "source": [
    "sb = sns.barplot(x=data['Sex'], y=data['Survived'])"
   ]
  },
  {
   "cell_type": "markdown",
   "metadata": {},
   "source": [
    "### Splitting the data into train and test dataset "
   ]
  },
  {
   "cell_type": "code",
   "execution_count": 63,
   "metadata": {},
   "outputs": [],
   "source": [
    "x=data.iloc[:, 1:4]\n",
    "y=data.iloc[:, 0]"
   ]
  },
  {
   "cell_type": "code",
   "execution_count": 64,
   "metadata": {},
   "outputs": [],
   "source": [
    "\n",
    "from sklearn.model_selection import train_test_split\n",
    "x_train, x_test, y_train, y_test = train_test_split(x, y, test_size=0.33, random_state=42)"
   ]
  },
  {
   "cell_type": "markdown",
   "metadata": {},
   "source": [
    "#### Prediction of Survival"
   ]
  },
  {
   "cell_type": "code",
   "execution_count": 65,
   "metadata": {},
   "outputs": [],
   "source": [
    "def models(x_train, y_train):\n",
    "    # LogisticRegression \n",
    "    from sklearn.linear_model import LogisticRegression       \n",
    "    log = LogisticRegression(random_state=0)\n",
    "    log.fit(x_train, y_train)\n",
    "   
    "    #training accuracy \n",
    "    \n",
    "    print(\"liner regression train accuracy\", log.score(x_train, y_train))\n",
    " 
    "    return log\n",
    "    "
   ]
  },
  {
   "cell_type": "code",
   "execution_count": 67,
   "metadata": {},
   "outputs": [
    {
     "name": "stdout",
     "output_type": "stream",
     "text": [
      "liner regression train accuracy 0.8138075313807531\n",
      "k nearest neighbor train accuracy 0.8556485355648535\n",
      "decision tree train accuracy 0.9184100418410042\n",
      "Random forest train accuracy 0.9079497907949791\n"
     ]
    }
   ],
   "source": [
    "model=models(x_train, y_train)"
   ]
  },
  {
   "cell_type": "code",
   "execution_count": null,
   "metadata": {},
   "outputs": [],
   "source": [
    "#As train accuracy in decision tree is better than others, we will go with decision tree classification "
   ]
  },
  {
   "cell_type": "code",
   "execution_count": 72,
   "metadata": {},
   "outputs": [
    {
     "name": "stdout",
     "output_type": "stream",
     "text": [
      "[1 1 0]\n"
     ]
    }
   ],
   "source": [
    "print(model[2].predict([[3,0,1], [1,1,12], [2,1,33]]))"
   ]
  },
  {
   "cell_type": "code",
   "execution_count": null,
   "metadata": {},
   "outputs": [],
   "source": [
    "#here 1= survived, 0=not survived"
   ]
  }
 ],
 "metadata": {
  "kernelspec": {
   "display_name": "Python 3",
   "language": "python",
   "name": "python3"
  },
  "language_info": {
   "codemirror_mode": {
    "name": "ipython",
    "version": 3
   },
   "file_extension": ".py",
   "mimetype": "text/x-python",
   "name": "python",
   "nbconvert_exporter": "python",
   "pygments_lexer": "ipython3",
   "version": "3.7.6"
  }
 },
 "nbformat": 4,
 "nbformat_minor": 4
}
